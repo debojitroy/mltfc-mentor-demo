{
 "cells": [
  {
   "cell_type": "markdown",
   "id": "d2f6965a-d244-4d3a-9db1-9da29db31488",
   "metadata": {},
   "source": [
    "# University Admission Predictor - Multiple Linear Regression with XGboost in SKLearn\n",
    "\n",
    "The objective of this project is to build, train, test and deploy a machine learning model to predict chances of university admission into a particular university given student’s profile.\n",
    "\n",
    "This project can be effectively used by university admission departments to determine top qualifying students.\n",
    "\n",
    "### Inputs (Features)\n",
    "\n",
    "    - GRE Scores (out of 340)\n",
    "    - TOEFL Scores (out of 120)\n",
    "    - University Rating (out of 5)\n",
    "    - Statement of Purpose (SOP) \n",
    "    - Letter of Recommendation (LOR) Strength (out of 5)\n",
    "    - Undergraduate GPA (out of 10)\n",
    "    - Research Experience (either 0 or 1)\n",
    "\n",
    "### Output\n",
    "\n",
    "    - Chance of admission (ranging from 0 to 1)"
   ]
  },
  {
   "cell_type": "markdown",
   "id": "8597d3ae-fe4c-450e-9528-26258c8a1da3",
   "metadata": {},
   "source": [
    "## Setup\n",
    "\n",
    "Let's start by specifying:\n",
    "\n",
    "* AWS region.\n",
    "* The IAM role arn used to give learning and hosting access to your data. See the documentation for how to specify these.\n",
    "* The S3 bucket that you want to use for training and model data."
   ]
  },
  {
   "cell_type": "code",
   "execution_count": 2,
   "id": "3c220f73-a1c4-4579-b545-f02e0197ed7d",
   "metadata": {
    "tags": []
   },
   "outputs": [
    {
     "name": "stdout",
     "output_type": "stream",
     "text": [
      "CPU times: user 1.1 s, sys: 160 ms, total: 1.26 s\n",
      "Wall time: 1.37 s\n"
     ]
    }
   ],
   "source": [
    "%%time\n",
    "\n",
    "import os\n",
    "import boto3\n",
    "import re\n",
    "import json\n",
    "import sagemaker\n",
    "from sagemaker import get_execution_role\n",
    "\n",
    "region = boto3.Session().region_name\n",
    "\n",
    "role = get_execution_role()\n",
    "\n",
    "bucket = sagemaker.Session().default_bucket()"
   ]
  },
  {
   "cell_type": "code",
   "execution_count": 3,
   "id": "d223d908-9f2e-46e1-a2f6-300e2869aff3",
   "metadata": {
    "tags": []
   },
   "outputs": [
    {
     "name": "stdout",
     "output_type": "stream",
     "text": [
      "https://s3-us-west-2.amazonaws.com/sagemaker-us-west-2-442342299380\n"
     ]
    }
   ],
   "source": [
    "prefix = \"sagemaker/multiregressor-xgboost-byo\"\n",
    "bucket_path = \"https://s3-{}.amazonaws.com/{}\".format(region, bucket)\n",
    "\n",
    "print(bucket_path)"
   ]
  },
  {
   "cell_type": "markdown",
   "id": "d93212c6-71fc-4e03-8186-816a7bb7b8b5",
   "metadata": {},
   "source": [
    "## Import the CSV Data"
   ]
  },
  {
   "cell_type": "code",
   "execution_count": 4,
   "id": "1e5e8373-e90a-4dd2-9715-fb2a3887fd4b",
   "metadata": {
    "tags": []
   },
   "outputs": [
    {
     "name": "stdout",
     "output_type": "stream",
     "text": [
      "1.21.6\n",
      "1.3.5\n"
     ]
    }
   ],
   "source": [
    "# Import Numpy and check the version\n",
    "import numpy as np\n",
    "print(np.__version__)\n",
    "\n",
    "# Import Numpy and check the version\n",
    "import pandas as pd\n",
    "print(pd.__version__)\n",
    "\n",
    "# Read the CSV file \n",
    "university_df = pd.read_csv(\"university_admission.csv\")"
   ]
  },
  {
   "cell_type": "markdown",
   "id": "dc14419b-8998-4bc6-aef9-52b3ef6ba1a3",
   "metadata": {},
   "source": [
    "## Describe the Data"
   ]
  },
  {
   "cell_type": "code",
   "execution_count": 5,
   "id": "db865710-1602-4820-8ad2-4970c1b34204",
   "metadata": {},
   "outputs": [
    {
     "data": {
      "text/plain": [
       "(1000, 8)"
      ]
     },
     "execution_count": 5,
     "metadata": {},
     "output_type": "execute_result"
    }
   ],
   "source": [
    "# Check the shape of the dataframe\n",
    "university_df.shape"
   ]
  },
  {
   "cell_type": "code",
   "execution_count": 6,
   "id": "a3f8068c-17f1-4b7e-aa13-16f0d0453988",
   "metadata": {},
   "outputs": [
    {
     "data": {
      "text/plain": [
       "GRE_Score                int64\n",
       "TOEFL_Score              int64\n",
       "University_Rating        int64\n",
       "SOP                    float64\n",
       "LOR                    float64\n",
       "CGPA                   float64\n",
       "Research                 int64\n",
       "Chance_of_Admission    float64\n",
       "dtype: object"
      ]
     },
     "execution_count": 6,
     "metadata": {},
     "output_type": "execute_result"
    }
   ],
   "source": [
    "# Check if any missing values are present in the dataframe\n",
    "university_df.isnull().sum()\n",
    "\n",
    "# Drop the rows with missing values\n",
    "university_df = university_df.dropna()\n",
    "\n",
    "university_df.dtypes"
   ]
  },
  {
   "cell_type": "code",
   "execution_count": 7,
   "id": "30d4069f-dab3-43b6-ac2a-f9ccde774b24",
   "metadata": {},
   "outputs": [
    {
     "data": {
      "text/html": [
       "<div>\n",
       "<style scoped>\n",
       "    .dataframe tbody tr th:only-of-type {\n",
       "        vertical-align: middle;\n",
       "    }\n",
       "\n",
       "    .dataframe tbody tr th {\n",
       "        vertical-align: top;\n",
       "    }\n",
       "\n",
       "    .dataframe thead th {\n",
       "        text-align: right;\n",
       "    }\n",
       "</style>\n",
       "<table border=\"1\" class=\"dataframe\">\n",
       "  <thead>\n",
       "    <tr style=\"text-align: right;\">\n",
       "      <th></th>\n",
       "      <th>GRE_Score</th>\n",
       "      <th>TOEFL_Score</th>\n",
       "      <th>University_Rating</th>\n",
       "      <th>SOP</th>\n",
       "      <th>LOR</th>\n",
       "      <th>CGPA</th>\n",
       "      <th>Research</th>\n",
       "      <th>Chance_of_Admission</th>\n",
       "    </tr>\n",
       "  </thead>\n",
       "  <tbody>\n",
       "    <tr>\n",
       "      <th>count</th>\n",
       "      <td>1000.000000</td>\n",
       "      <td>1000.000000</td>\n",
       "      <td>1000.000000</td>\n",
       "      <td>1000.000000</td>\n",
       "      <td>1000.000000</td>\n",
       "      <td>1000.00000</td>\n",
       "      <td>1000.000000</td>\n",
       "      <td>1000.00000</td>\n",
       "    </tr>\n",
       "    <tr>\n",
       "      <th>mean</th>\n",
       "      <td>316.472000</td>\n",
       "      <td>107.193000</td>\n",
       "      <td>3.114000</td>\n",
       "      <td>3.374000</td>\n",
       "      <td>3.484000</td>\n",
       "      <td>8.57644</td>\n",
       "      <td>0.560000</td>\n",
       "      <td>0.72174</td>\n",
       "    </tr>\n",
       "    <tr>\n",
       "      <th>std</th>\n",
       "      <td>11.289494</td>\n",
       "      <td>6.079368</td>\n",
       "      <td>1.142939</td>\n",
       "      <td>0.990507</td>\n",
       "      <td>0.924986</td>\n",
       "      <td>0.60451</td>\n",
       "      <td>0.496635</td>\n",
       "      <td>0.14107</td>\n",
       "    </tr>\n",
       "    <tr>\n",
       "      <th>min</th>\n",
       "      <td>290.000000</td>\n",
       "      <td>92.000000</td>\n",
       "      <td>1.000000</td>\n",
       "      <td>1.000000</td>\n",
       "      <td>1.000000</td>\n",
       "      <td>6.80000</td>\n",
       "      <td>0.000000</td>\n",
       "      <td>0.34000</td>\n",
       "    </tr>\n",
       "    <tr>\n",
       "      <th>25%</th>\n",
       "      <td>308.000000</td>\n",
       "      <td>103.000000</td>\n",
       "      <td>2.000000</td>\n",
       "      <td>2.500000</td>\n",
       "      <td>3.000000</td>\n",
       "      <td>8.12750</td>\n",
       "      <td>0.000000</td>\n",
       "      <td>0.63000</td>\n",
       "    </tr>\n",
       "    <tr>\n",
       "      <th>50%</th>\n",
       "      <td>317.000000</td>\n",
       "      <td>107.000000</td>\n",
       "      <td>3.000000</td>\n",
       "      <td>3.500000</td>\n",
       "      <td>3.500000</td>\n",
       "      <td>8.56000</td>\n",
       "      <td>1.000000</td>\n",
       "      <td>0.72000</td>\n",
       "    </tr>\n",
       "    <tr>\n",
       "      <th>75%</th>\n",
       "      <td>325.000000</td>\n",
       "      <td>112.000000</td>\n",
       "      <td>4.000000</td>\n",
       "      <td>4.000000</td>\n",
       "      <td>4.000000</td>\n",
       "      <td>9.04000</td>\n",
       "      <td>1.000000</td>\n",
       "      <td>0.82000</td>\n",
       "    </tr>\n",
       "    <tr>\n",
       "      <th>max</th>\n",
       "      <td>340.000000</td>\n",
       "      <td>120.000000</td>\n",
       "      <td>5.000000</td>\n",
       "      <td>5.000000</td>\n",
       "      <td>5.000000</td>\n",
       "      <td>9.92000</td>\n",
       "      <td>1.000000</td>\n",
       "      <td>0.97000</td>\n",
       "    </tr>\n",
       "  </tbody>\n",
       "</table>\n",
       "</div>"
      ],
      "text/plain": [
       "         GRE_Score  TOEFL_Score  University_Rating          SOP          LOR  \\\n",
       "count  1000.000000  1000.000000        1000.000000  1000.000000  1000.000000   \n",
       "mean    316.472000   107.193000           3.114000     3.374000     3.484000   \n",
       "std      11.289494     6.079368           1.142939     0.990507     0.924986   \n",
       "min     290.000000    92.000000           1.000000     1.000000     1.000000   \n",
       "25%     308.000000   103.000000           2.000000     2.500000     3.000000   \n",
       "50%     317.000000   107.000000           3.000000     3.500000     3.500000   \n",
       "75%     325.000000   112.000000           4.000000     4.000000     4.000000   \n",
       "max     340.000000   120.000000           5.000000     5.000000     5.000000   \n",
       "\n",
       "             CGPA     Research  Chance_of_Admission  \n",
       "count  1000.00000  1000.000000           1000.00000  \n",
       "mean      8.57644     0.560000              0.72174  \n",
       "std       0.60451     0.496635              0.14107  \n",
       "min       6.80000     0.000000              0.34000  \n",
       "25%       8.12750     0.000000              0.63000  \n",
       "50%       8.56000     1.000000              0.72000  \n",
       "75%       9.04000     1.000000              0.82000  \n",
       "max       9.92000     1.000000              0.97000  "
      ]
     },
     "execution_count": 7,
     "metadata": {},
     "output_type": "execute_result"
    }
   ],
   "source": [
    "# Describe the data\n",
    "university_df.describe()"
   ]
  },
  {
   "cell_type": "markdown",
   "id": "6f61ee43-69a7-496c-8210-3830da425a28",
   "metadata": {},
   "source": [
    "## Prepare the Data before Model Training"
   ]
  },
  {
   "cell_type": "code",
   "execution_count": 8,
   "id": "c9e81457-c911-41ce-b7e6-6d7bbe727f39",
   "metadata": {},
   "outputs": [
    {
     "data": {
      "text/plain": [
       "Index(['GRE_Score', 'TOEFL_Score', 'University_Rating', 'SOP', 'LOR', 'CGPA',\n",
       "       'Research', 'Chance_of_Admission'],\n",
       "      dtype='object')"
      ]
     },
     "execution_count": 8,
     "metadata": {},
     "output_type": "execute_result"
    }
   ],
   "source": [
    "# Print the columns\n",
    "university_df.columns"
   ]
  },
  {
   "cell_type": "code",
   "execution_count": 9,
   "id": "7c2a4326-d5eb-4ebe-aea1-f17b042d8144",
   "metadata": {},
   "outputs": [],
   "source": [
    "# Features Dataframe\n",
    "X = university_df.drop(columns = ['Chance_of_Admission'])\n",
    "\n",
    "# Inference Dataframe\n",
    "y = university_df['Chance_of_Admission']"
   ]
  },
  {
   "cell_type": "code",
   "execution_count": 10,
   "id": "a2b3a7ea-9ce4-48a1-b956-557a69f6d3ad",
   "metadata": {},
   "outputs": [
    {
     "name": "stdout",
     "output_type": "stream",
     "text": [
      "(1000, 7)\n",
      "(1000,)\n"
     ]
    }
   ],
   "source": [
    "# Print the shapes\n",
    "\n",
    "print(X.shape)\n",
    "print(y.shape)"
   ]
  },
  {
   "cell_type": "code",
   "execution_count": 11,
   "id": "1bff09d0-f9bc-4b31-b2b7-daaf0b82d6fc",
   "metadata": {},
   "outputs": [
    {
     "data": {
      "text/plain": [
       "(1000, 1)"
      ]
     },
     "execution_count": 11,
     "metadata": {},
     "output_type": "execute_result"
    }
   ],
   "source": [
    "# Convert to numpy arrays\n",
    "X = np.array(X)\n",
    "y = np.array(y)\n",
    "\n",
    "# reshaping the array from (1000,) to (1000, 1)\n",
    "y = y.reshape(-1,1)\n",
    "y.shape"
   ]
  },
  {
   "cell_type": "markdown",
   "id": "7264988f-cf12-4988-8ef7-d54889df6baa",
   "metadata": {},
   "source": [
    "## Split the Training and Test data sets"
   ]
  },
  {
   "cell_type": "code",
   "execution_count": 12,
   "id": "23d2e62b-a644-4d65-b2af-ce1077a34d00",
   "metadata": {},
   "outputs": [],
   "source": [
    "# Split the data into 25% Testing and 75% Training\n",
    "\n",
    "# !pip uninstall -y numpy\n",
    "# !pip uninstall -y setuptools\n",
    "# %pip install setuptools\n",
    "# %pip install numpy\n",
    "\n",
    "\n",
    "from sklearn.model_selection import train_test_split\n",
    "X_train, X_test, y_train, y_test = train_test_split(X, y, test_size = 0.25)"
   ]
  },
  {
   "cell_type": "code",
   "execution_count": 13,
   "id": "65fa9123-469b-453d-b439-10a7d7fc7c1b",
   "metadata": {},
   "outputs": [
    {
     "data": {
      "text/plain": [
       "(750, 7)"
      ]
     },
     "execution_count": 13,
     "metadata": {},
     "output_type": "execute_result"
    }
   ],
   "source": [
    "X_train.shape"
   ]
  },
  {
   "cell_type": "code",
   "execution_count": 14,
   "id": "4cd88dc1-afaf-4a7b-bf95-28e2864d1be8",
   "metadata": {},
   "outputs": [
    {
     "data": {
      "text/plain": [
       "(250, 7)"
      ]
     },
     "execution_count": 14,
     "metadata": {},
     "output_type": "execute_result"
    }
   ],
   "source": [
    "X_test.shape"
   ]
  },
  {
   "cell_type": "markdown",
   "id": "9d7ff953-b358-4511-9b69-6389af065887",
   "metadata": {},
   "source": [
    "## Train the Model"
   ]
  },
  {
   "cell_type": "code",
   "execution_count": 15,
   "id": "ac03274f-83d7-4add-8787-76dc0be96893",
   "metadata": {},
   "outputs": [
    {
     "name": "stdout",
     "output_type": "stream",
     "text": [
      "\u001b[33mDEPRECATION: pyodbc 4.0.0-unsupported has a non-standard version number. pip 23.3 will enforce this behaviour change. A possible replacement is to upgrade to a newer version of pyodbc or contact the author to suggest that they release a version with a conforming version number. Discussion can be found at https://github.com/pypa/pip/issues/12063\u001b[0m\u001b[33m\n",
      "\u001b[0m\u001b[33mWARNING: Running pip as the 'root' user can result in broken permissions and conflicting behaviour with the system package manager. It is recommended to use a virtual environment instead: https://pip.pypa.io/warnings/venv\u001b[0m\u001b[33m\n",
      "\u001b[0m"
     ]
    }
   ],
   "source": [
    "!pip install -Uq xgboost==0.90"
   ]
  },
  {
   "cell_type": "code",
   "execution_count": 16,
   "id": "d2de233e-8c15-4fd6-bb4c-0a6531f1ec68",
   "metadata": {},
   "outputs": [
    {
     "name": "stdout",
     "output_type": "stream",
     "text": [
      "XGB Version - 0.90\n"
     ]
    },
    {
     "data": {
      "text/plain": [
       "XGBRegressor(base_score=0.5, booster='gbtree', colsample_bylevel=1,\n",
       "             colsample_bynode=1, colsample_bytree=1, gamma=0,\n",
       "             importance_type='gain', learning_rate=0.1, max_delta_step=0,\n",
       "             max_depth=30, min_child_weight=1, missing=None, n_estimators=100,\n",
       "             n_jobs=1, nthread=None, objective='reg:squarederror',\n",
       "             random_state=0, reg_alpha=0, reg_lambda=1, scale_pos_weight=1,\n",
       "             seed=None, silent=None, subsample=1, verbosity=1)"
      ]
     },
     "execution_count": 16,
     "metadata": {},
     "output_type": "execute_result"
    }
   ],
   "source": [
    "import xgboost as xgb\n",
    "import sklearn as sk\n",
    "\n",
    "xgb_version = xgb.__version__\n",
    "\n",
    "print(f\"XGB Version - {xgb_version}\")\n",
    "\n",
    "# from sklearn.preprocessing import LabelEncoder\n",
    "# le = LabelEncoder()\n",
    "# y_train_le = le.fit_transform(y_train.ravel())\n",
    "\n",
    "# # print(y_train)\n",
    "# print(y_train_le)\n",
    "\n",
    "# bt = xgb.XGBClassifier(\n",
    "#     objective ='reg:squarederror', learning_rate = 0.1, max_depth = 30, n_estimators = 100\n",
    "# )  # Setup xgboost model\n",
    "# bt.fit(X_train, y_train_le, verbose=False)  # Train it to our data\n",
    "\n",
    "model = xgb.XGBRegressor(objective ='reg:squarederror', learning_rate = 0.1, max_depth = 30, n_estimators = 100)\n",
    "\n",
    "model.fit(X_train, y_train)"
   ]
  },
  {
   "cell_type": "code",
   "execution_count": 17,
   "id": "1e2e76e9-14ab-43a4-9d86-c1315890d981",
   "metadata": {},
   "outputs": [],
   "source": [
    "# Save the model\n",
    "model_file_name = \"multi-regressor-xgboost-model\"\n",
    "model.save_model(model_file_name)"
   ]
  },
  {
   "cell_type": "code",
   "execution_count": 18,
   "id": "bdd90673-9302-41ed-95cb-9457e78a615a",
   "metadata": {},
   "outputs": [
    {
     "name": "stdout",
     "output_type": "stream",
     "text": [
      "Accuracy : 0.9047137599591243\n"
     ]
    }
   ],
   "source": [
    "# Predict the score of the trained model using the testing dataset\n",
    "\n",
    "result = model.score(X_test, y_test)\n",
    "print(\"Accuracy : {}\".format(result))\n",
    "\n",
    "# Make predictions on the test data\n",
    "y_predict = model.predict(X_test)"
   ]
  },
  {
   "cell_type": "code",
   "execution_count": 19,
   "id": "a7a03a8b-124f-48bd-bcf2-146524206009",
   "metadata": {},
   "outputs": [
    {
     "data": {
      "text/plain": [
       "array([0.5792501 , 0.41041452, 0.72943157, 0.85038257, 0.95985985,\n",
       "       0.87060857, 0.9404441 , 0.71825516, 0.4617769 , 0.7682433 ,\n",
       "       0.7286445 , 0.66943663, 0.95563185, 0.8604122 , 0.7473627 ,\n",
       "       0.69834834, 0.72043073, 0.7597363 , 0.92766625, 0.7911525 ,\n",
       "       0.7101232 , 0.49164867, 0.849548  , 0.7226256 , 0.62029064,\n",
       "       0.5314263 , 0.78056777, 0.57956976, 0.44022632, 0.9468069 ,\n",
       "       0.5202545 , 0.57041895, 0.52008164, 0.6791025 , 0.7098753 ,\n",
       "       0.7689101 , 0.76027274, 0.69834834, 0.5596452 , 0.8916558 ,\n",
       "       0.7226256 , 0.6061566 , 0.6720531 , 0.6792645 , 0.8202441 ,\n",
       "       0.961064  , 0.89003384, 0.5896477 , 0.58156335, 0.7106353 ,\n",
       "       0.7234301 , 0.6397014 , 0.53056556, 0.939922  , 0.8111183 ,\n",
       "       0.83371365, 0.6490842 , 0.7889292 , 0.4441638 , 0.86004555,\n",
       "       0.7240722 , 0.68049276, 0.7648382 , 0.64973056, 0.7201986 ,\n",
       "       0.62063104, 0.9393027 , 0.6306576 , 0.5601826 , 0.6701422 ,\n",
       "       0.8981861 , 0.73911905, 0.6814442 , 0.8563551 , 0.6703579 ,\n",
       "       0.7008016 , 0.94876695, 0.9302361 , 0.838747  , 0.70016587,\n",
       "       0.86662644, 0.47137442, 0.50014806, 0.6807282 , 0.7594733 ,\n",
       "       0.83940095, 0.42181018, 0.948876  , 0.6094524 , 0.6554053 ,\n",
       "       0.6799696 , 0.71057826, 0.5006333 , 0.79969597, 0.61997646,\n",
       "       0.9212465 , 0.62699914, 0.908221  , 0.890373  , 0.8908888 ,\n",
       "       0.4303489 , 0.6201492 , 0.76902294, 0.6701908 , 0.6800595 ,\n",
       "       0.66102713, 0.64015085, 0.7994895 , 0.89073706, 0.8808044 ,\n",
       "       0.7071065 , 0.85014105, 0.8799584 , 0.668403  , 0.55039304,\n",
       "       0.78891456, 0.6397014 , 0.5604257 , 0.58990717, 0.8105021 ,\n",
       "       0.6497015 , 0.61076105, 0.6001256 , 0.4441638 , 0.9099256 ,\n",
       "       0.71978307, 0.5909468 , 0.8400829 , 0.4598108 , 0.6293935 ,\n",
       "       0.9102633 , 0.918529  , 0.7196271 , 0.7088236 , 0.9006797 ,\n",
       "       0.7648382 , 0.6602104 , 0.4623678 , 0.6902123 , 0.5525793 ,\n",
       "       0.77955717, 0.9595812 , 0.71977973, 0.4623678 , 0.87051237,\n",
       "       0.96861386, 0.95563185, 0.8985807 , 0.8168662 , 0.70039934,\n",
       "       0.93913543, 0.72996366, 0.7877015 , 0.73978853, 0.6061566 ,\n",
       "       0.8393291 , 0.8304676 , 0.64662606, 0.7101643 , 0.78977215,\n",
       "       0.74973255, 0.7873821 , 0.90848184, 0.45019108, 0.8563551 ,\n",
       "       0.7173319 , 0.69810337, 0.7903379 , 0.8809664 , 0.6554053 ,\n",
       "       0.7099566 , 0.6902859 , 0.668403  , 0.7296159 , 0.6480948 ,\n",
       "       0.64234316, 0.6998985 , 0.7104095 , 0.7913965 , 0.9005656 ,\n",
       "       0.6502528 , 0.942033  , 0.69810337, 0.5113028 , 0.63071346,\n",
       "       0.700134  , 0.78242177, 0.6702937 , 0.7607736 , 0.71006626,\n",
       "       0.5979595 , 0.93160045, 0.54033303, 0.5979595 , 0.8981861 ,\n",
       "       0.7799746 , 0.7240722 , 0.76902294, 0.6807631 , 0.85038257,\n",
       "       0.8808044 , 0.56008387, 0.9603741 , 0.56975937, 0.49164867,\n",
       "       0.868615  , 0.900543  , 0.8592465 , 0.96962273, 0.6701864 ,\n",
       "       0.5803164 , 0.5796869 , 0.8916558 , 0.64025635, 0.6682829 ,\n",
       "       0.8389446 , 0.7085721 , 0.52020735, 0.8898545 , 0.85035825,\n",
       "       0.807928  , 0.6400854 , 0.63876855, 0.66676986, 0.5713232 ,\n",
       "       0.93913543, 0.83940095, 0.9197756 , 0.7701435 , 0.84674126,\n",
       "       0.6490842 , 0.5706486 , 0.84674126, 0.6997367 , 0.63881844,\n",
       "       0.8002868 , 0.46020335, 0.7205563 , 0.7008016 , 0.9212465 ,\n",
       "       0.66978145, 0.64234316, 0.91004086, 0.7197688 , 0.7234301 ,\n",
       "       0.3605423 , 0.41041452, 0.7308192 , 0.80943406, 0.9488362 ],\n",
       "      dtype=float32)"
      ]
     },
     "execution_count": 19,
     "metadata": {},
     "output_type": "execute_result"
    }
   ],
   "source": [
    "y_predict"
   ]
  },
  {
   "cell_type": "code",
   "execution_count": 20,
   "id": "bb90cb43-082e-4703-90d0-8e98c9980674",
   "metadata": {},
   "outputs": [
    {
     "name": "stdout",
     "output_type": "stream",
     "text": [
      "RMSE = 0.043 \n",
      "MSE = 0.0018255081177536007 \n",
      "MAE = 0.015137223381996155 \n",
      "R2 = 0.9047137599591242 \n",
      "Adjusted R2 = 0.9019575464042228\n"
     ]
    }
   ],
   "source": [
    "# Check Accuracy\n",
    "\n",
    "from sklearn.metrics import r2_score, mean_squared_error, mean_absolute_error\n",
    "from math import sqrt\n",
    "\n",
    "k = X_test.shape[1]\n",
    "n = len(X_test)\n",
    "\n",
    "RMSE = float(format(np.sqrt(mean_squared_error(y_test, y_predict)),'.3f'))\n",
    "MSE = mean_squared_error(y_test, y_predict)\n",
    "MAE = mean_absolute_error(y_test, y_predict)\n",
    "r2 = r2_score(y_test, y_predict)\n",
    "adj_r2 = 1-(1-r2)*(n-1)/(n-k-1)\n",
    "\n",
    "print('RMSE =',RMSE, '\\nMSE =',MSE, '\\nMAE =',MAE, '\\nR2 =', r2, '\\nAdjusted R2 =', adj_r2) "
   ]
  },
  {
   "cell_type": "code",
   "execution_count": 21,
   "id": "de2377cd-af8d-4d8c-b563-71e55cc29506",
   "metadata": {},
   "outputs": [
    {
     "name": "stdout",
     "output_type": "stream",
     "text": [
      "multi-regressor-xgboost-model\n"
     ]
    }
   ],
   "source": [
    "!tar czvf model.tar.gz $model_file_name"
   ]
  },
  {
   "cell_type": "markdown",
   "id": "10475eec-b821-4167-aafc-e4bdad0f1b1c",
   "metadata": {},
   "source": [
    "## Upload the model to S3"
   ]
  },
  {
   "cell_type": "code",
   "execution_count": 22,
   "id": "028f7744-9398-49eb-9ce0-96a91b8aca10",
   "metadata": {
    "tags": []
   },
   "outputs": [
    {
     "name": "stdout",
     "output_type": "stream",
     "text": [
      "sagemaker/multiregressor-xgboost-byo/multi-regressor-xgboost-model/model.tar.gz\n"
     ]
    }
   ],
   "source": [
    "fObj = open(\"model.tar.gz\", \"rb\")\n",
    "key = os.path.join(prefix, model_file_name, \"model.tar.gz\")\n",
    "boto3.Session().resource(\"s3\").Bucket(bucket).Object(key).upload_fileobj(fObj)\n",
    "\n",
    "print(key)"
   ]
  }
 ],
 "metadata": {
  "availableInstances": [
   {
    "_defaultOrder": 0,
    "_isFastLaunch": true,
    "category": "General purpose",
    "gpuNum": 0,
    "hideHardwareSpecs": false,
    "memoryGiB": 4,
    "name": "ml.t3.medium",
    "vcpuNum": 2
   },
   {
    "_defaultOrder": 1,
    "_isFastLaunch": false,
    "category": "General purpose",
    "gpuNum": 0,
    "hideHardwareSpecs": false,
    "memoryGiB": 8,
    "name": "ml.t3.large",
    "vcpuNum": 2
   },
   {
    "_defaultOrder": 2,
    "_isFastLaunch": false,
    "category": "General purpose",
    "gpuNum": 0,
    "hideHardwareSpecs": false,
    "memoryGiB": 16,
    "name": "ml.t3.xlarge",
    "vcpuNum": 4
   },
   {
    "_defaultOrder": 3,
    "_isFastLaunch": false,
    "category": "General purpose",
    "gpuNum": 0,
    "hideHardwareSpecs": false,
    "memoryGiB": 32,
    "name": "ml.t3.2xlarge",
    "vcpuNum": 8
   },
   {
    "_defaultOrder": 4,
    "_isFastLaunch": true,
    "category": "General purpose",
    "gpuNum": 0,
    "hideHardwareSpecs": false,
    "memoryGiB": 8,
    "name": "ml.m5.large",
    "vcpuNum": 2
   },
   {
    "_defaultOrder": 5,
    "_isFastLaunch": false,
    "category": "General purpose",
    "gpuNum": 0,
    "hideHardwareSpecs": false,
    "memoryGiB": 16,
    "name": "ml.m5.xlarge",
    "vcpuNum": 4
   },
   {
    "_defaultOrder": 6,
    "_isFastLaunch": false,
    "category": "General purpose",
    "gpuNum": 0,
    "hideHardwareSpecs": false,
    "memoryGiB": 32,
    "name": "ml.m5.2xlarge",
    "vcpuNum": 8
   },
   {
    "_defaultOrder": 7,
    "_isFastLaunch": false,
    "category": "General purpose",
    "gpuNum": 0,
    "hideHardwareSpecs": false,
    "memoryGiB": 64,
    "name": "ml.m5.4xlarge",
    "vcpuNum": 16
   },
   {
    "_defaultOrder": 8,
    "_isFastLaunch": false,
    "category": "General purpose",
    "gpuNum": 0,
    "hideHardwareSpecs": false,
    "memoryGiB": 128,
    "name": "ml.m5.8xlarge",
    "vcpuNum": 32
   },
   {
    "_defaultOrder": 9,
    "_isFastLaunch": false,
    "category": "General purpose",
    "gpuNum": 0,
    "hideHardwareSpecs": false,
    "memoryGiB": 192,
    "name": "ml.m5.12xlarge",
    "vcpuNum": 48
   },
   {
    "_defaultOrder": 10,
    "_isFastLaunch": false,
    "category": "General purpose",
    "gpuNum": 0,
    "hideHardwareSpecs": false,
    "memoryGiB": 256,
    "name": "ml.m5.16xlarge",
    "vcpuNum": 64
   },
   {
    "_defaultOrder": 11,
    "_isFastLaunch": false,
    "category": "General purpose",
    "gpuNum": 0,
    "hideHardwareSpecs": false,
    "memoryGiB": 384,
    "name": "ml.m5.24xlarge",
    "vcpuNum": 96
   },
   {
    "_defaultOrder": 12,
    "_isFastLaunch": false,
    "category": "General purpose",
    "gpuNum": 0,
    "hideHardwareSpecs": false,
    "memoryGiB": 8,
    "name": "ml.m5d.large",
    "vcpuNum": 2
   },
   {
    "_defaultOrder": 13,
    "_isFastLaunch": false,
    "category": "General purpose",
    "gpuNum": 0,
    "hideHardwareSpecs": false,
    "memoryGiB": 16,
    "name": "ml.m5d.xlarge",
    "vcpuNum": 4
   },
   {
    "_defaultOrder": 14,
    "_isFastLaunch": false,
    "category": "General purpose",
    "gpuNum": 0,
    "hideHardwareSpecs": false,
    "memoryGiB": 32,
    "name": "ml.m5d.2xlarge",
    "vcpuNum": 8
   },
   {
    "_defaultOrder": 15,
    "_isFastLaunch": false,
    "category": "General purpose",
    "gpuNum": 0,
    "hideHardwareSpecs": false,
    "memoryGiB": 64,
    "name": "ml.m5d.4xlarge",
    "vcpuNum": 16
   },
   {
    "_defaultOrder": 16,
    "_isFastLaunch": false,
    "category": "General purpose",
    "gpuNum": 0,
    "hideHardwareSpecs": false,
    "memoryGiB": 128,
    "name": "ml.m5d.8xlarge",
    "vcpuNum": 32
   },
   {
    "_defaultOrder": 17,
    "_isFastLaunch": false,
    "category": "General purpose",
    "gpuNum": 0,
    "hideHardwareSpecs": false,
    "memoryGiB": 192,
    "name": "ml.m5d.12xlarge",
    "vcpuNum": 48
   },
   {
    "_defaultOrder": 18,
    "_isFastLaunch": false,
    "category": "General purpose",
    "gpuNum": 0,
    "hideHardwareSpecs": false,
    "memoryGiB": 256,
    "name": "ml.m5d.16xlarge",
    "vcpuNum": 64
   },
   {
    "_defaultOrder": 19,
    "_isFastLaunch": false,
    "category": "General purpose",
    "gpuNum": 0,
    "hideHardwareSpecs": false,
    "memoryGiB": 384,
    "name": "ml.m5d.24xlarge",
    "vcpuNum": 96
   },
   {
    "_defaultOrder": 20,
    "_isFastLaunch": false,
    "category": "General purpose",
    "gpuNum": 0,
    "hideHardwareSpecs": true,
    "memoryGiB": 0,
    "name": "ml.geospatial.interactive",
    "supportedImageNames": [
     "sagemaker-geospatial-v1-0"
    ],
    "vcpuNum": 0
   },
   {
    "_defaultOrder": 21,
    "_isFastLaunch": true,
    "category": "Compute optimized",
    "gpuNum": 0,
    "hideHardwareSpecs": false,
    "memoryGiB": 4,
    "name": "ml.c5.large",
    "vcpuNum": 2
   },
   {
    "_defaultOrder": 22,
    "_isFastLaunch": false,
    "category": "Compute optimized",
    "gpuNum": 0,
    "hideHardwareSpecs": false,
    "memoryGiB": 8,
    "name": "ml.c5.xlarge",
    "vcpuNum": 4
   },
   {
    "_defaultOrder": 23,
    "_isFastLaunch": false,
    "category": "Compute optimized",
    "gpuNum": 0,
    "hideHardwareSpecs": false,
    "memoryGiB": 16,
    "name": "ml.c5.2xlarge",
    "vcpuNum": 8
   },
   {
    "_defaultOrder": 24,
    "_isFastLaunch": false,
    "category": "Compute optimized",
    "gpuNum": 0,
    "hideHardwareSpecs": false,
    "memoryGiB": 32,
    "name": "ml.c5.4xlarge",
    "vcpuNum": 16
   },
   {
    "_defaultOrder": 25,
    "_isFastLaunch": false,
    "category": "Compute optimized",
    "gpuNum": 0,
    "hideHardwareSpecs": false,
    "memoryGiB": 72,
    "name": "ml.c5.9xlarge",
    "vcpuNum": 36
   },
   {
    "_defaultOrder": 26,
    "_isFastLaunch": false,
    "category": "Compute optimized",
    "gpuNum": 0,
    "hideHardwareSpecs": false,
    "memoryGiB": 96,
    "name": "ml.c5.12xlarge",
    "vcpuNum": 48
   },
   {
    "_defaultOrder": 27,
    "_isFastLaunch": false,
    "category": "Compute optimized",
    "gpuNum": 0,
    "hideHardwareSpecs": false,
    "memoryGiB": 144,
    "name": "ml.c5.18xlarge",
    "vcpuNum": 72
   },
   {
    "_defaultOrder": 28,
    "_isFastLaunch": false,
    "category": "Compute optimized",
    "gpuNum": 0,
    "hideHardwareSpecs": false,
    "memoryGiB": 192,
    "name": "ml.c5.24xlarge",
    "vcpuNum": 96
   },
   {
    "_defaultOrder": 29,
    "_isFastLaunch": true,
    "category": "Accelerated computing",
    "gpuNum": 1,
    "hideHardwareSpecs": false,
    "memoryGiB": 16,
    "name": "ml.g4dn.xlarge",
    "vcpuNum": 4
   },
   {
    "_defaultOrder": 30,
    "_isFastLaunch": false,
    "category": "Accelerated computing",
    "gpuNum": 1,
    "hideHardwareSpecs": false,
    "memoryGiB": 32,
    "name": "ml.g4dn.2xlarge",
    "vcpuNum": 8
   },
   {
    "_defaultOrder": 31,
    "_isFastLaunch": false,
    "category": "Accelerated computing",
    "gpuNum": 1,
    "hideHardwareSpecs": false,
    "memoryGiB": 64,
    "name": "ml.g4dn.4xlarge",
    "vcpuNum": 16
   },
   {
    "_defaultOrder": 32,
    "_isFastLaunch": false,
    "category": "Accelerated computing",
    "gpuNum": 1,
    "hideHardwareSpecs": false,
    "memoryGiB": 128,
    "name": "ml.g4dn.8xlarge",
    "vcpuNum": 32
   },
   {
    "_defaultOrder": 33,
    "_isFastLaunch": false,
    "category": "Accelerated computing",
    "gpuNum": 4,
    "hideHardwareSpecs": false,
    "memoryGiB": 192,
    "name": "ml.g4dn.12xlarge",
    "vcpuNum": 48
   },
   {
    "_defaultOrder": 34,
    "_isFastLaunch": false,
    "category": "Accelerated computing",
    "gpuNum": 1,
    "hideHardwareSpecs": false,
    "memoryGiB": 256,
    "name": "ml.g4dn.16xlarge",
    "vcpuNum": 64
   },
   {
    "_defaultOrder": 35,
    "_isFastLaunch": false,
    "category": "Accelerated computing",
    "gpuNum": 1,
    "hideHardwareSpecs": false,
    "memoryGiB": 61,
    "name": "ml.p3.2xlarge",
    "vcpuNum": 8
   },
   {
    "_defaultOrder": 36,
    "_isFastLaunch": false,
    "category": "Accelerated computing",
    "gpuNum": 4,
    "hideHardwareSpecs": false,
    "memoryGiB": 244,
    "name": "ml.p3.8xlarge",
    "vcpuNum": 32
   },
   {
    "_defaultOrder": 37,
    "_isFastLaunch": false,
    "category": "Accelerated computing",
    "gpuNum": 8,
    "hideHardwareSpecs": false,
    "memoryGiB": 488,
    "name": "ml.p3.16xlarge",
    "vcpuNum": 64
   },
   {
    "_defaultOrder": 38,
    "_isFastLaunch": false,
    "category": "Accelerated computing",
    "gpuNum": 8,
    "hideHardwareSpecs": false,
    "memoryGiB": 768,
    "name": "ml.p3dn.24xlarge",
    "vcpuNum": 96
   },
   {
    "_defaultOrder": 39,
    "_isFastLaunch": false,
    "category": "Memory Optimized",
    "gpuNum": 0,
    "hideHardwareSpecs": false,
    "memoryGiB": 16,
    "name": "ml.r5.large",
    "vcpuNum": 2
   },
   {
    "_defaultOrder": 40,
    "_isFastLaunch": false,
    "category": "Memory Optimized",
    "gpuNum": 0,
    "hideHardwareSpecs": false,
    "memoryGiB": 32,
    "name": "ml.r5.xlarge",
    "vcpuNum": 4
   },
   {
    "_defaultOrder": 41,
    "_isFastLaunch": false,
    "category": "Memory Optimized",
    "gpuNum": 0,
    "hideHardwareSpecs": false,
    "memoryGiB": 64,
    "name": "ml.r5.2xlarge",
    "vcpuNum": 8
   },
   {
    "_defaultOrder": 42,
    "_isFastLaunch": false,
    "category": "Memory Optimized",
    "gpuNum": 0,
    "hideHardwareSpecs": false,
    "memoryGiB": 128,
    "name": "ml.r5.4xlarge",
    "vcpuNum": 16
   },
   {
    "_defaultOrder": 43,
    "_isFastLaunch": false,
    "category": "Memory Optimized",
    "gpuNum": 0,
    "hideHardwareSpecs": false,
    "memoryGiB": 256,
    "name": "ml.r5.8xlarge",
    "vcpuNum": 32
   },
   {
    "_defaultOrder": 44,
    "_isFastLaunch": false,
    "category": "Memory Optimized",
    "gpuNum": 0,
    "hideHardwareSpecs": false,
    "memoryGiB": 384,
    "name": "ml.r5.12xlarge",
    "vcpuNum": 48
   },
   {
    "_defaultOrder": 45,
    "_isFastLaunch": false,
    "category": "Memory Optimized",
    "gpuNum": 0,
    "hideHardwareSpecs": false,
    "memoryGiB": 512,
    "name": "ml.r5.16xlarge",
    "vcpuNum": 64
   },
   {
    "_defaultOrder": 46,
    "_isFastLaunch": false,
    "category": "Memory Optimized",
    "gpuNum": 0,
    "hideHardwareSpecs": false,
    "memoryGiB": 768,
    "name": "ml.r5.24xlarge",
    "vcpuNum": 96
   },
   {
    "_defaultOrder": 47,
    "_isFastLaunch": false,
    "category": "Accelerated computing",
    "gpuNum": 1,
    "hideHardwareSpecs": false,
    "memoryGiB": 16,
    "name": "ml.g5.xlarge",
    "vcpuNum": 4
   },
   {
    "_defaultOrder": 48,
    "_isFastLaunch": false,
    "category": "Accelerated computing",
    "gpuNum": 1,
    "hideHardwareSpecs": false,
    "memoryGiB": 32,
    "name": "ml.g5.2xlarge",
    "vcpuNum": 8
   },
   {
    "_defaultOrder": 49,
    "_isFastLaunch": false,
    "category": "Accelerated computing",
    "gpuNum": 1,
    "hideHardwareSpecs": false,
    "memoryGiB": 64,
    "name": "ml.g5.4xlarge",
    "vcpuNum": 16
   },
   {
    "_defaultOrder": 50,
    "_isFastLaunch": false,
    "category": "Accelerated computing",
    "gpuNum": 1,
    "hideHardwareSpecs": false,
    "memoryGiB": 128,
    "name": "ml.g5.8xlarge",
    "vcpuNum": 32
   },
   {
    "_defaultOrder": 51,
    "_isFastLaunch": false,
    "category": "Accelerated computing",
    "gpuNum": 1,
    "hideHardwareSpecs": false,
    "memoryGiB": 256,
    "name": "ml.g5.16xlarge",
    "vcpuNum": 64
   },
   {
    "_defaultOrder": 52,
    "_isFastLaunch": false,
    "category": "Accelerated computing",
    "gpuNum": 4,
    "hideHardwareSpecs": false,
    "memoryGiB": 192,
    "name": "ml.g5.12xlarge",
    "vcpuNum": 48
   },
   {
    "_defaultOrder": 53,
    "_isFastLaunch": false,
    "category": "Accelerated computing",
    "gpuNum": 4,
    "hideHardwareSpecs": false,
    "memoryGiB": 384,
    "name": "ml.g5.24xlarge",
    "vcpuNum": 96
   },
   {
    "_defaultOrder": 54,
    "_isFastLaunch": false,
    "category": "Accelerated computing",
    "gpuNum": 8,
    "hideHardwareSpecs": false,
    "memoryGiB": 768,
    "name": "ml.g5.48xlarge",
    "vcpuNum": 192
   },
   {
    "_defaultOrder": 55,
    "_isFastLaunch": false,
    "category": "Accelerated computing",
    "gpuNum": 8,
    "hideHardwareSpecs": false,
    "memoryGiB": 1152,
    "name": "ml.p4d.24xlarge",
    "vcpuNum": 96
   },
   {
    "_defaultOrder": 56,
    "_isFastLaunch": false,
    "category": "Accelerated computing",
    "gpuNum": 8,
    "hideHardwareSpecs": false,
    "memoryGiB": 1152,
    "name": "ml.p4de.24xlarge",
    "vcpuNum": 96
   }
  ],
  "instance_type": "ml.m5.large",
  "kernelspec": {
   "display_name": "Python 3 (Data Science)",
   "language": "python",
   "name": "python3__SAGEMAKER_INTERNAL__arn:aws:sagemaker:us-west-2:236514542706:image/datascience-1.0"
  },
  "language_info": {
   "codemirror_mode": {
    "name": "ipython",
    "version": 3
   },
   "file_extension": ".py",
   "mimetype": "text/x-python",
   "name": "python",
   "nbconvert_exporter": "python",
   "pygments_lexer": "ipython3",
   "version": "3.7.10"
  }
 },
 "nbformat": 4,
 "nbformat_minor": 5
}
